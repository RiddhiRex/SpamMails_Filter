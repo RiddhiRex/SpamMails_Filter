{
 "cells": [
  {
   "cell_type": "code",
   "execution_count": 1,
   "metadata": {
    "collapsed": true
   },
   "outputs": [],
   "source": [
    "import pandas as pd\n",
    "import seaborn as sns\n",
    "import numpy as np\n",
    "import matplotlib.pyplot as plt\n",
    "import random\n",
    "import nltk\n",
    "from nltk.corpus import stopwords\n",
    "from sklearn.model_selection import train_test_split\n",
    "from sklearn.naive_bayes import *\n",
    "import operator\n",
    "from sklearn.metrics import mean_squared_error, r2_score, mean_absolute_error, accuracy_score\n"
   ]
  },
  {
   "cell_type": "code",
   "execution_count": 42,
   "metadata": {
    "collapsed": true
   },
   "outputs": [],
   "source": [
    "def preprocess_text(df):\n",
    "\n",
    "    st1 =[]\n",
    "    st2_flag = []\n",
    "    st3 = []\n",
    "    for idx, row in df.iterrows():\n",
    "            #filling df1['mailid'] column\n",
    "            strg = row[0]\n",
    "            words = strg.split(None, 1)[0]\n",
    "            st1.append(words)\n",
    "            #filling df1['spam_or_ham'] column\n",
    "            words2 = strg.split(None, 1)[1]\n",
    "            st2 = words2.split(None, 1)[0]\n",
    "            if st2 =='ham':\n",
    "                st2_flag.append(0)\n",
    "            else:\n",
    "                st2_flag.append(1)\n",
    "            #Filling df1['content'] column \n",
    "            d = ' '\n",
    "            words3 = words2.split(None, 1)[1]\n",
    "            st3.append(words3)\n",
    "\n",
    "    df1 = pd.DataFrame()\n",
    "    df1['mailid']=st1\n",
    "    df1['spam_or_ham']=st2_flag\n",
    "    df1['content']=st3\n",
    "    \n",
    "    #Filling df1['spam_word_count'] with zeros for now\n",
    "    zeros = []\n",
    "    for i in range(0,len(df1['mailid'])):\n",
    "        zeros.append(0)\n",
    "    df1['spam_word_count'] = zeros\n",
    "    print df1.head(10)\n",
    "    return df1"
   ]
  },
  {
   "cell_type": "code",
   "execution_count": 56,
   "metadata": {},
   "outputs": [],
   "source": [
    "def spam_list_creation(df1):\n",
    "    notpos = ['PRP','IN','DT','WDT','WP','WRB','TO','MD','EX']\n",
    "    stop_words = set(stopwords.words(\"english\"))\n",
    "    #put words in ham spam list and put their wrd count too\n",
    "    dict_spam = {}\n",
    "    dict_ham = {}\n",
    "    for idx, row in df1.iterrows():\n",
    "        if row['spam_or_ham']==1:\n",
    "            wrds = row['content'].split(' ')\n",
    "            for w, c in zip(*[iter(wrds)]*2):\n",
    "                if not w.isdigit():\n",
    "                    if w not in stop_words:\n",
    "                        tagged = nltk.pos_tag([w])\n",
    "                        #if (filter(lambda word_tag: word_tag[1] in notpos, tagged)):\n",
    "                        #continue\n",
    "                        if w in dict_spam.keys():\n",
    "                            dict_spam[w]=dict_spam[w]+c\n",
    "                        else:\n",
    "                            dict_spam[w]=c\n",
    "        else:\n",
    "            wrds = row['content'].split(' ')\n",
    "            for w, c in zip(*[iter(wrds)]*2):\n",
    "                if not w.isdigit():\n",
    "                    if w not in stop_words:\n",
    "                        tagged = nltk.pos_tag([w])\n",
    "                        #if (filter(lambda word_tag: word_tag[1] in notpos, tagged)):\n",
    "                        #continue\n",
    "    \n",
    "                        if w in dict_ham.keys():\n",
    "                            dict_ham[w]=dict_ham[w]+c\n",
    "                        else:\n",
    "                            dict_ham[w]=c\n",
    "                break\n",
    "    ham_list = sorted(dict_ham.keys(), key=dict_ham.get)[-70:]\n",
    "    spam_list = sorted(dict_spam.keys(), key=dict_spam.get)[-70:]\n",
    "    return spam_list"
   ]
  },
  {
   "cell_type": "code",
   "execution_count": 55,
   "metadata": {
    "collapsed": true
   },
   "outputs": [],
   "source": [
    "def check_for_spam_words(spam_list, df1):\n",
    "    #filling df1['spam_word_count'] column \n",
    "    spam_word_cnt_list = []\n",
    "    for idx, row in df1.iterrows():\n",
    "        spam_word_count = 0\n",
    "        wrds = row['content'].split(' ')\n",
    "        for w, c in zip(*[iter(wrds)]*2):\n",
    "            if not w.isdigit():\n",
    "                if w in spam_list:\n",
    "                    spam_word_count=spam_word_count+int(c)\n",
    "        spam_word_cnt_list.append(spam_word_count)\n",
    "        \n",
    "    df1['spam_word_count']=spam_word_cnt_list\n",
    "    print df1.head(10)\n",
    "    return df1"
   ]
  },
  {
   "cell_type": "code",
   "execution_count": 61,
   "metadata": {
    "collapsed": true
   },
   "outputs": [],
   "source": [
    "def classifier():\n",
    "    #csv file containing preprocessed training dataset\n",
    "    df_train = pd.read_csv(\"processed_trainingdata2.csv\")\n",
    "    y_train =pd.DataFrame()\n",
    "    y_train =df_train['spam_or_ham']\n",
    "    X_train =df_train\n",
    "    X_train.drop('spam_or_ham', 1, inplace=True)\n",
    "    X_train.drop('mailid', 1, inplace=True)\n",
    "    X_train.drop('content', 1, inplace=True)\n",
    "\n",
    "    #Initialise the classification model\n",
    "    nb = MultinomialNB()\n",
    "    \n",
    "    print(\"Fit the training dataset\")\n",
    "    nb.fit(X_train, y_train)\n",
    "    \n",
    "    #csv file containing preprocessed testing dataset\n",
    "    df_test = pd.read_csv(\"processed_testingdata2.csv\")\n",
    "    y_test =pd.DataFrame()\n",
    "    y_test =df_test['spam_or_ham']\n",
    "    X_test =df_test\n",
    "    X_test.drop('spam_or_ham', 1, inplace=True)\n",
    "    X_test.drop('mailid', 1, inplace=True)\n",
    "    X_test.drop('content', 1, inplace=True)\n",
    "    \n",
    "    print(\"predicting in the testing dataset\")\n",
    "    prediction = nb.predict(X_test)\n",
    "    \n",
    "    #Evaluate Accuracy\n",
    "    print_results(y_test, prediction)\n",
    "    \n",
    "    prediction_list = []\n",
    "    for each in prediction:\n",
    "        if each==1:\n",
    "            prediction_list.append(\"spam\")\n",
    "        else:\n",
    "            prediction_list.append(\"ham\")\n",
    "            \n",
    "    df_test = pd.read_csv(\"processed_testingdata2.csv\")\n",
    "    df_op =pd.DataFrame()\n",
    "    df_op['ID']=df_test['mailid']\n",
    "    df_op['spam/ham']=prediction_list\n",
    "    filename = 'output_file.csv'\n",
    "    df_op.to_csv(filename, index=False)\n",
    "    return"
   ]
  },
  {
   "cell_type": "code",
   "execution_count": 48,
   "metadata": {
    "collapsed": true
   },
   "outputs": [],
   "source": [
    "def print_results(y_test, prediction):\n",
    "    print(\"Accuracy score:\", accuracy_score(y_test, prediction)*100)\n",
    "    print(\"R^2:\", r2_score(y_test,prediction))\n",
    "    rmse = np.sqrt(mean_squared_error(y_test, prediction))\n",
    "    print(\"Mean squared error:\", mean_squared_error(y_test, prediction))\n",
    "    print(\"Root mean squared error: {}\".format(rmse))\n",
    "    print(\"Mean absolute error:\", mean_absolute_error(y_test,prediction))"
   ]
  },
  {
   "cell_type": "code",
   "execution_count": 52,
   "metadata": {
    "collapsed": true
   },
   "outputs": [],
   "source": [
    "def main():\n",
    "    print(\"preprocess training data\")\n",
    "    df = pd.read_csv(\"data\\set_train\")\n",
    "    df1 = preprocess_text(df)\n",
    "    filename = 'preprocessing1.csv'\n",
    "    df1.to_csv(filename, index=False)\n",
    "    \n",
    "    print(\"Spam words list creation\")\n",
    "    spam_list = spam_list_creation(df1)\n",
    "    sdf = pd.read_csv(\"spam_wrds.csv\")\n",
    "    spamlist = [[sdf] + spam_list]\n",
    "    \n",
    "    print(\"Checking for Spam words\")\n",
    "    df_train = pd.DataFrame()\n",
    "    df_train = check_for_spam_words(spam_list, df1)\n",
    "    filename = 'processed_trainingdata2.csv'\n",
    "    df_train.to_csv(filename, index=False)\n",
    "        \n",
    "    print(\"preprocess testing data\")\n",
    "    df2 = pd.read_csv(\"data\\set_test\")\n",
    "    df3=preprocess_text(df2)\n",
    "    filename = 'preprocessing_test1.csv'\n",
    "    df3.to_csv(filename, index=False)\n",
    "\n",
    "    #Checking for Spam words\n",
    "    df_test = pd.DataFrame()\n",
    "    df_test = check_for_spam_words(spam_list, df3)\n",
    "    filename = 'processed_testingdata2.csv'\n",
    "    df_test.to_csv(filename, index=False)\n",
    "    \n",
    "    print(\"Classifying emails\")\n",
    "    classifier()"
   ]
  },
  {
   "cell_type": "code",
   "execution_count": null,
   "metadata": {},
   "outputs": [
    {
     "name": "stdout",
     "output_type": "stream",
     "text": [
      "preprocess training data\n",
      "     mailid  spam_or_ham                                            content  \\\n",
      "0  /000/031            0  don 1 kim 5 dave 1 39 1 customer 1 38 2 thanks...   \n",
      "1  /000/044            0  to 1 mimeole 1 for 1 kim 3 110 1 smtpsvc 1 39 ...   \n",
      "2  /000/057            0  to 2 mimeole 1 110 1 smtpsvc 1 39 1 type 1 has...   \n",
      "3  /000/069            0  smtp 1 for 3 visit 1 its 1 0700 4 of 5 on 1 in...   \n",
      "4  /000/076            0  for 4 33 2 are 1 file 2 40 1 thread 2 exchange...   \n",
      "5  /000/077            1  for 2 mailer 1 center 1 exchange 1 transfer 1 ...   \n",
      "6  /000/079            1  smtp 1 for 2 mailer 1 info 2 center 1 exchange...   \n",
      "7  /000/083            1  need 1 else 1 iso 1 200 3 charset 3 windows 1 ...   \n",
      "8  /000/113            1  for 2 34 1 39 2 mailer 1 0700 1 43 3 42 1 41 1...   \n",
      "9  /000/147            1  for 2 jeff 2 36 2 33 1 mailer 1 38 1 exchange ...   \n",
      "\n",
      "   spam_word_count  \n",
      "0                0  \n",
      "1                0  \n",
      "2                0  \n",
      "3                0  \n",
      "4                0  \n",
      "5                0  \n",
      "6                0  \n",
      "7                0  \n",
      "8                0  \n",
      "9                0  \n",
      "Spam words list creation\n"
     ]
    }
   ],
   "source": [
    "if __name__ == '__main__':\n",
    "    main()"
   ]
  },
  {
   "cell_type": "markdown",
   "metadata": {
    "collapsed": true
   },
   "source": [
    "('Accuracy score:', 58.058058058058059)\n",
    "('R^2:', -0.722413793103448)\n",
    "('Mean squared error:', 0.4194194194194194)\n",
    "Root mean squared error: 0.647625987295\n",
    "('Mean absolute error:', 0.4194194194194194)"
   ]
  }
 ],
 "metadata": {
  "kernelspec": {
   "display_name": "Python 2",
   "language": "python",
   "name": "python2"
  },
  "language_info": {
   "codemirror_mode": {
    "name": "ipython",
    "version": 2
   },
   "file_extension": ".py",
   "mimetype": "text/x-python",
   "name": "python",
   "nbconvert_exporter": "python",
   "pygments_lexer": "ipython2",
   "version": "2.7.13"
  }
 },
 "nbformat": 4,
 "nbformat_minor": 2
}
